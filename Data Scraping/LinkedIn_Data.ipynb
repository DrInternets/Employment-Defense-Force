{
 "cells": [
  {
   "cell_type": "code",
   "execution_count": 42,
   "metadata": {
    "collapsed": false
   },
   "outputs": [
    {
     "data": {
      "text/html": [
       "<div>\n",
       "<table border=\"1\" class=\"dataframe\">\n",
       "  <thead>\n",
       "    <tr style=\"text-align: right;\">\n",
       "      <th></th>\n",
       "      <th>Name</th>\n",
       "      <th>Location</th>\n",
       "      <th>Job Title</th>\n",
       "    </tr>\n",
       "  </thead>\n",
       "  <tbody>\n",
       "    <tr>\n",
       "      <th>0</th>\n",
       "      <td>Atavas</td>\n",
       "      <td>Burleson, Texas</td>\n",
       "      <td>Senior Software Developer/IT Software Engineer</td>\n",
       "    </tr>\n",
       "    <tr>\n",
       "      <th>1</th>\n",
       "      <td>Magic Leap, Inc.</td>\n",
       "      <td>Austin, Texas</td>\n",
       "      <td>Sr. Software Engineer (Developer Tools) - TX</td>\n",
       "    </tr>\n",
       "    <tr>\n",
       "      <th>2</th>\n",
       "      <td>Exigo Office</td>\n",
       "      <td>Garland, Texas</td>\n",
       "      <td>Full Stack .Net Developer</td>\n",
       "    </tr>\n",
       "    <tr>\n",
       "      <th>3</th>\n",
       "      <td>HonHai / Foxconn</td>\n",
       "      <td>Houston, Texas</td>\n",
       "      <td>IT Systems Analyst, Software Engineer, Web Dev...</td>\n",
       "    </tr>\n",
       "    <tr>\n",
       "      <th>4</th>\n",
       "      <td>Poetic Systems</td>\n",
       "      <td>Houston, Texas</td>\n",
       "      <td>App Developer (junior to mid-level)</td>\n",
       "    </tr>\n",
       "  </tbody>\n",
       "</table>\n",
       "</div>"
      ],
      "text/plain": [
       "               Name         Location  \\\n",
       "0            Atavas  Burleson, Texas   \n",
       "1  Magic Leap, Inc.    Austin, Texas   \n",
       "2      Exigo Office   Garland, Texas   \n",
       "3  HonHai / Foxconn   Houston, Texas   \n",
       "4    Poetic Systems   Houston, Texas   \n",
       "\n",
       "                                           Job Title  \n",
       "0     Senior Software Developer/IT Software Engineer  \n",
       "1       Sr. Software Engineer (Developer Tools) - TX  \n",
       "2                          Full Stack .Net Developer  \n",
       "3  IT Systems Analyst, Software Engineer, Web Dev...  \n",
       "4                App Developer (junior to mid-level)  "
      ]
     },
     "execution_count": 42,
     "metadata": {},
     "output_type": "execute_result"
    }
   ],
   "source": [
    "# Imports\n",
    "import json\n",
    "from pandas.io.json import json_normalize\n",
    "import pandas as pd\n",
    "\n",
    "# Read .json file to dataframe\n",
    "data = pd.read_json('C:\\Users\\Marie\\Desktop\\Employment-Defense-Force-master\\Data Scraping\\linkedin_results_1000.json', orient='column')\n",
    "\n",
    "# Normalize/ flatten dataframe\n",
    "data = json_normalize(data['results'])\n",
    "\n",
    "# Create desired dataframe \n",
    "data = pd.concat([data['decoratedJobPosting.companyName'], data['decoratedJobPosting.cityState'],data['decoratedJobPosting.jobPosting.title']], axis=1,)\n",
    "\n",
    "# Rename dataframe columns\n",
    "data.rename(columns={'decoratedJobPosting.companyName' : 'Name', 'decoratedJobPosting.cityState' : 'Location', 'decoratedJobPosting.jobPosting.title' : 'Job Title'}, inplace=True)\n",
    "\n",
    "# Import dataframe to .csv\n",
    "data.to_csv('linkedin.csv', encoding='utf-8')\n",
    "\n",
    "# Print dataframe\n",
    "data.head()"
   ]
  },
  {
   "cell_type": "code",
   "execution_count": null,
   "metadata": {
    "collapsed": true
   },
   "outputs": [],
   "source": []
  }
 ],
 "metadata": {
  "kernelspec": {
   "display_name": "Python [Root]",
   "language": "python",
   "name": "Python [Root]"
  },
  "language_info": {
   "codemirror_mode": {
    "name": "ipython",
    "version": 2
   },
   "file_extension": ".py",
   "mimetype": "text/x-python",
   "name": "python",
   "nbconvert_exporter": "python",
   "pygments_lexer": "ipython2",
   "version": "2.7.12"
  }
 },
 "nbformat": 4,
 "nbformat_minor": 0
}
